
# City Demographics Data Visualization

This notebook demonstrates how to create data visualizations using the city demographics dataset.

## Importing Necessary Libraries

First, we need to import the necessary libraries for data manipulation and visualization.

```python
import pandas as pd
import matplotlib.pyplot as plt
```

## Loading Data

Now, let's load the city demographics dataset.

```python
# Load the datasets
city_demographics_data = pd.read_csv('cities_r2.csv')
```

## Data Preparation

Before creating visualizations, we often need to prepare or clean our data.

```python
# Selecting top 10 cities by total population for a cleaner visualization
top_cities_by_population = city_demographics_data.nlargest(10, 'population_total')

# Data for literacy rate comparison
literacy_rates = city_demographics_data[['name_of_city', 'effective_literacy_rate_male', 'effective_literacy_rate_female']].nlargest(10, 'effective_literacy_rate_male')

# Data for relationship between population and graduates
population_vs_graduates = city_demographics_data[['name_of_city', 'population_total', 'total_graduates']].nlargest(10, 'population_total')
```

## Visualization 1: Population Distribution

```python
# Visualization 1: Population distribution among the top 10 cities
top_cities_by_population.sort_values('population_total', ascending=True, inplace=True)
plt.figure(figsize=[10,6])
plt.barh(top_cities_by_population['name_of_city'], top_cities_by_population['population_total'], color='skyblue')
plt.xlabel('Total Population')
plt.ylabel('City')
plt.title('Top 10 Cities by Population')
plt.tight_layout()
plt.show()
```

## Visualization 2: Literacy Rates

```python
# Visualization 2: Comparison of male vs female literacy rates in these cities
plt.figure(figsize=[10,6])
bar_width = 0.35
index = range(len(literacy_rates))
plt.bar(index, literacy_rates['effective_literacy_rate_male'], bar_width, label='Male', color='blue')
plt.bar([i+bar_width for i in index], literacy_rates['effective_literacy_rate_female'], bar_width, label='Female', color='pink')
plt.xlabel('City')
plt.ylabel('Literacy Rate (%)')
plt.title('Comparison of Male vs Female Literacy Rates')
plt.xticks([i + bar_width / 2 for i in index], literacy_rates['name_of_city'], rotation=90)
plt.legend()
plt.tight_layout()
plt.show()
```

## Visualization 3: Relationship Between Population and Graduates

```python
# Visualization 3: Relationship between total population and number of graduates
plt.figure(figsize=[10,6])
plt.scatter(population_vs_graduates['population_total'], population_vs_graduates['total_graduates'], color='green')
plt.xlabel('Total Population')
plt.ylabel('Total Graduates')
plt.title('Relationship between Population and Graduates')
plt.tight_layout()
plt.show()
```

## Conclusion

By exploring these visualizations, you can gain insights into the demographic patterns and educational dynamics of the largest cities.
